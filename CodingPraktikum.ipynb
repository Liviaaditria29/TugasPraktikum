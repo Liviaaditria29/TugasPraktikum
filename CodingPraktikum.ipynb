{
 "cells": [
  {
   "cell_type": "markdown",
   "id": "f868736f",
   "metadata": {},
   "source": [
    "<h3>Latihan</h3>\n",
    "<ol>\n",
    "    <li>Buatlah variabel dengan nama hobi, yang digunakan untuk menampung input dari user dengan label \"Hobi kamu apa? : \" , kemudian Cetaklah dengan label <b>Hobi kamu : {hobi}</b></li>\n",
    "    <li>Buatlah variabel nama, yang digunakan untuk menampung input dari user dengan label \"Siapa nama kamu? : \" , misal user mengisikan nama \"Romi\" maka akan tampil output <b>Nama kamu berawalan huruf R</b></li>\n",
    "</ol>"
   ]
  },
  {
   "cell_type": "code",
   "execution_count": 1,
   "id": "1a96d419",
   "metadata": {},
   "outputs": [
    {
     "name": "stdout",
     "output_type": "stream",
     "text": [
      "Jawaban No. 1\n",
      "Hobi kamu apa? :Bermain Gitar\n",
      "Hobi kamu Bermain Gitar\n"
     ]
    }
   ],
   "source": [
    "print(\"Jawaban No. 1\")\n",
    "\n",
    "hobi = input('Hobi kamu apa? :')\n",
    "print(f\"Hobi kamu : {hobi}\")"
   ]
  },
  {
   "cell_type": "code",
   "execution_count": 2,
   "id": "79b57b07",
   "metadata": {},
   "outputs": [
    {
     "name": "stdout",
     "output_type": "stream",
     "text": [
      "Jawaban No. 2\n",
      "Siapa nama kamu :Livia\n",
      "Nama kamu berawalan huruf L\n"
     ]
    }
   ],
   "source": [
    "print(\"Jawaban No. 2\")\n",
    "\n",
    "nama = input('Siapa nama kamu :')\n",
    "print(f\"Nama kamu berawalan huruf {nama[0]}\")"
   ]
  },
  {
   "cell_type": "markdown",
   "id": "331c8d6d",
   "metadata": {},
   "source": [
    "<h3>Latihan</h3>\n",
    "\n",
    "<ol>\n",
    "    <li>Buatlah program tebak hasil dari perkalian dari 2 angka dari 0 sampai 100, jika user menjawab benar maka tampil <b>Jawaban anda True</b> dan jika salah, maka akan tampil <b>Jawaban anda False</b></li>\n",
    "</ol>"
   ]
  },
  {
   "cell_type": "code",
   "execution_count": 3,
   "id": "67d775ed",
   "metadata": {},
   "outputs": [
    {
     "name": "stdout",
     "output_type": "stream",
     "text": [
      "Jawaban Tebak Perkalian 2 Angka\n",
      "Berapakah hasil perkalian 73 dan 94 : 123\n",
      "Jawaban anda False\n"
     ]
    }
   ],
   "source": [
    "print(\"Jawaban Tebak Perkalian 2 Angka\")\n",
    "\n",
    "from random import randint\n",
    "angka_1 = randint(0,100)\n",
    "angka_2 = randint(0,100)\n",
    "\n",
    "hasil = int(input(f\"Berapakah hasil perkalian {angka_1} dan {angka_2} : \"))\n",
    "print(f\"Jawaban anda {hasil==angka_1 * angka_2}\")"
   ]
  },
  {
   "cell_type": "markdown",
   "id": "6624b339",
   "metadata": {},
   "source": [
    "<h3>Latihan</h3>\n",
    "    Carilah kode CLDR Names dan unicode dari emoji, dan cetaklah menggunakan fungsi print"
   ]
  },
  {
   "cell_type": "code",
   "execution_count": 13,
   "id": "f7e3d667",
   "metadata": {},
   "outputs": [
    {
     "name": "stdout",
     "output_type": "stream",
     "text": [
      "Names : grinning face\n",
      "Unicode : U0001F600\n",
      "Hasil : 😀\n",
      "\n",
      "Names : rolling on the floor laughing\n",
      "Unicode : U0001F923\n",
      "Hasil : 🤣\n"
     ]
    }
   ],
   "source": [
    "print(\"Names : grinning face\")\n",
    "print(\"Unicode : U0001F600\")\n",
    "print(\"Hasil : \\U0001F600\")\n",
    "\n",
    "print(\"\\nNames : rolling on the floor laughing\")\n",
    "print(\"Unicode : U0001F923\")\n",
    "print(\"Hasil : \\U0001F923\")"
   ]
  },
  {
   "cell_type": "markdown",
   "id": "45a9389c",
   "metadata": {},
   "source": [
    "<h3>Latihan</h3>\n",
    "Jika terdapat sebuah string <b>Belajar Pemrograman Python</b> Maka tampilkan <b>output</b> berikut ini menggunakan fungsi <b>print</b><br>\n",
    "<ol>\n",
    "    <li>Belajar</li>\n",
    "    <li>ajar</li>\n",
    "    <li>Pemrograman</li>\n",
    "    <li>gram</li>\n",
    "    <li>Python</li>\n",
    "    <li>Py</li>\n",
    "    <li>gram Python</li>\n",
    "    <li>Pemrograman Python</li>\n",
    "</ol>"
   ]
  },
  {
   "cell_type": "code",
   "execution_count": 26,
   "id": "a1ec0ff9",
   "metadata": {},
   "outputs": [
    {
     "name": "stdout",
     "output_type": "stream",
     "text": [
      "1.Belajar\n",
      "2.ajar\n",
      "3.Pemrograman\n",
      "4.gram\n",
      "5.Python\n",
      "6.Py\n",
      "7.gram Python\n",
      "8.Pemrograman Python\n"
     ]
    }
   ],
   "source": [
    "kalimat = \"Belajar Pemrograman Python\"\n",
    "print(f'1.{kalimat[0:7]}')\n",
    "print(f'2.{kalimat[3:7]}')\n",
    "print(f'3.{kalimat[8:19]}')\n",
    "print(f'4.{kalimat[13:17]}')\n",
    "print(f'5.{kalimat[20:26]}')\n",
    "print(f'6.{kalimat[20:22]}')\n",
    "print(f'7.{kalimat[13:17]} {kalimat[20:26]}')\n",
    "print(f'8.{kalimat[8:19]} {kalimat[20:26]}')\n"
   ]
  },
  {
   "cell_type": "markdown",
   "id": "bc4ba942",
   "metadata": {},
   "source": [
    "<h1>Latihan</h1>\n",
    "1. Buatlah program untuk mengecek bahwa sebuah email termasuk valid atau tidak. Valid diartikan <b>True</b> dan tidak valid diartikan <b>False</b>\n",
    "Berikut contoh <i>test case</i> yang bisa digunakan sebagai acuan \n",
    "<ol>\n",
    "    <li>alunsujjada@gmailcom -> False</li>\n",
    "    <li>alunsujjada@gmail.com -> True</li>\n",
    "    <li>alun.sujjada@gmail.com -> False</li>\n",
    "    <li>alunsujjada.gmail.com -> False</li>\n",
    "    <li>alun.sujjada@gmailcom -> False</li>\n",
    "</ol>"
   ]
  },
  {
   "cell_type": "code",
   "execution_count": 14,
   "id": "9faeff50",
   "metadata": {
    "scrolled": true
   },
   "outputs": [
    {
     "name": "stdout",
     "output_type": "stream",
     "text": [
      "alunsujjada@gmail.com\n",
      "True\n"
     ]
    }
   ],
   "source": [
    "import re\n",
    "\n",
    "def email(cek_email):\n",
    "   syarat = \"^[a-zA-Z0-9-_]+@[a-zA-Z0-9]+\\.[a-z]{1,3}$\"\n",
    "   if re.match(syarat,cek_email):\n",
    "      return True\n",
    "   return False\n",
    "\n",
    "cek_email = input()\n",
    "print(email(cek_email))"
   ]
  }
 ],
 "metadata": {
  "kernelspec": {
   "display_name": "Python 3 (ipykernel)",
   "language": "python",
   "name": "python3"
  },
  "language_info": {
   "codemirror_mode": {
    "name": "ipython",
    "version": 3
   },
   "file_extension": ".py",
   "mimetype": "text/x-python",
   "name": "python",
   "nbconvert_exporter": "python",
   "pygments_lexer": "ipython3",
   "version": "3.9.12"
  }
 },
 "nbformat": 4,
 "nbformat_minor": 5
}
